{
  "nbformat": 4,
  "nbformat_minor": 0,
  "metadata": {
    "colab": {
      "provenance": []
    },
    "kernelspec": {
      "name": "python3",
      "display_name": "Python 3"
    },
    "language_info": {
      "name": "python"
    }
  },
  "cells": [
    {
      "cell_type": "code",
      "execution_count": 3,
      "metadata": {
        "id": "pjSB2NTQhSd-"
      },
      "outputs": [],
      "source": [
        "import pandas as pd\n",
        "import numpy as np"
      ]
    },
    {
      "cell_type": "code",
      "source": [
        "import tensorflow as tf\n",
        "from tensorflow.keras.preprocessing.sequence import pad_sequences\n",
        "from tensorflow.keras.layers import Embedding, LSTM, Dense, Bidirectional\n",
        "from tensorflow.keras.preprocessing.text import Tokenizer\n",
        "from tensorflow.keras.models import Sequential\n",
        "from tensorflow.keras.optimizers import Adam"
      ],
      "metadata": {
        "id": "zXuJAJgKhpKI"
      },
      "execution_count": 4,
      "outputs": []
    },
    {
      "cell_type": "code",
      "source": [
        "df = pd.read_csv('/content/grammer.csv')\n",
        "text = [x for x,y in zip(df.input.values, df.labels.values) if y==1]\n"
      ],
      "metadata": {
        "id": "7iZjd0Mih5XJ"
      },
      "execution_count": 5,
      "outputs": []
    },
    {
      "cell_type": "code",
      "source": [
        "corpus = [line.split(\" \") for line in text]\n",
        "corpus = corpus[:2000]"
      ],
      "metadata": {
        "id": "bU0sPPDFiWnh"
      },
      "execution_count": 6,
      "outputs": []
    },
    {
      "cell_type": "code",
      "source": [
        "tokenizer = Tokenizer(oov_token=\"<OOV>\")\n",
        "tokenizer.fit_on_texts(corpus)\n",
        "print(tokenizer.word_index)"
      ],
      "metadata": {
        "colab": {
          "base_uri": "https://localhost:8080/"
        },
        "id": "WIewS4T-iW0c",
        "outputId": "f9338f5e-9e4f-47e8-9940-31c0f5d841bc"
      },
      "execution_count": 7,
      "outputs": [
        {
          "output_type": "stream",
          "name": "stdout",
          "text": [
            "{'<OOV>': 1, '.': 2, 'i': 3, ',': 4, 'the': 5, 'to': 6, 'a': 7, 'is': 8, 'and': 9, 'in': 10, 'it': 11, 'of': 12, 'my': 13, 'not': 14, 'for': 15, 'was': 16, '!': 17, 'have': 18, 'that': 19, '': 20, 'you': 21, 'this': 22, 'so': 23, 'but': 24, '?': 25, 'with': 26, 'english': 27, 'are': 28, 'we': 29, 'me': 30, 'do': 31, 'am': 32, 'will': 33, 'be': 34, 'about': 35, 'at': 36, 'time': 37, 'he': 38, '-': 39, 'very': 40, 'on': 41, 'like': 42, 'they': 43, 'there': 44, 'can': 45, 'people': 46, 'think': 47, 'one': 48, 'as': 49, 'when': 50, 'had': 51, 'if': 52, 'because': 53, 'want': 54, 'or': 55, 'some': 56, 'more': 57, 'an': 58, 'all': 59, 'by': 60, 'japanese': 61, 'go': 62, 'today': 63, 'could': 64, 'good': 65, 'what': 66, 'she': 67, \"'\": 68, 'them': 69, 'their': 70, 'now': 71, 'who': 72, 'day': 73, 'from': 74, 'know': 75, 'would': 76, 'many': 77, 'up': 78, 'has': 79, 'did': 80, 'our': 81, 'get': 82, 'his': 83, 'went': 84, 'been': 85, 'also': 86, 'which': 87, 'how': 88, 'your': 89, 'her': 90, 'first': 91, 'than': 92, 'going': 93, 'make': 94, 'other': 95, 'friends': 96, 'were': 97, 'really': 98, 'new': 99, 'work': 100, 'why': 101, 'japan': 102, 'just': 103, 'hope': 104, 'way': 105, 'last': 106, 'lot': 107, 'study': 108, 'see': 109, 'long': 110, 'feel': 111, 'school': 112, 'year': 113, 'no': 114, 'ca': 115, 'then': 116, 'should': 117, 'after': 118, 'two': 119, 'well': 120, 'only': 121, 'here': 122, 'something': 123, 'love': 124, 'him': 125, 'say': 126, 'said': 127, 'life': 128, 'even': 129, 'got': 130, 'things': 131, 'always': 132, 'great': 133, 'back': 134, 'however': 135, 'out': 136, 'home': 137, 's': 138, 'please': 139, 'never': 140, 'help': 141, 'little': 142, 'too': 143, 'us': 144, 'thought': 145, 'made': 146, 'these': 147, 'days': 148, 'better': 149, 'before': 150, 'hard': 151, 'use': 152, 'understand': 153, 'much': 154, 'try': 155, 'take': 156, 'world': 157, 'write': 158, 'studying': 159, 'sometimes': 160, 'happy': 161, 'does': 162, 'yesterday': 163, 'since': 164, 'still': 165, 'next': 166, 'old': 167, 'read': 168, 'where': 169, 'three': 170, 'most': 171, 'friend': 172, 'came': 173, 'learn': 174, 'speak': 175, 'myself': 176, 'any': 177, 'words': 178, 'morning': 179, 'years': 180, 'nt': 181, 'play': 182, 'house': 183, 'each': 184, 'high': 185, 'night': 186, 'need': 187, 'bad': 188, 'reading': 189, 'every': 190, 'look': 191, 'diary': 192, 'cold': 193, 'though': 194, 'over': 195, 'give': 196, 'family': 197, 'come': 198, 'such': 199, 'into': 200, 'hours': 201, 'nice': 202, 'thing': 203, 'job': 204, 'thank': 205, 'took': 206, 'almost': 207, 'man': 208, 'again': 209, 'students': 210, 'hot': 211, 'week': 212, 'ago': 213, 'may': 214, 'another': 215, 'best': 216, 'eat': 217, 'while': 218, 'between': 219, 'person': 220, 'example': 221, 'teacher': 222, 'down': 223, 'chinese': 224, 'company': 225, 'seen': 226, 'wanted': 227, 'around': 228, 'become': 229, 'without': 230, 'tomorrow': 231, 'minutes': 232, 'tell': 233, 'skills': 234, 'talk': 235, 'learning': 236, 'lunch': 237, 'find': 238, 'korea': 239, 'called': 240, 'internet': 241, 'book': 242, 'place': 243, 'started': 244, 'found': 245, 'those': 246, 'm': 247, 'others': 248, 'same': 249, 'might': 250, 'finally': 251, 'room': 252, 'off': 253, 'used': 254, 'believe': 255, 'american': 256, 'enjoy': 257, 'problem': 258, 'felt': 259, 'through': 260, 'books': 261, 'movies': 262, 'music': 263, 'correct': 264, 'thanks': 265, 'let': 266, 'game': 267, 'listening': 268, 'language': 269, 'part': 270, 'site': 271, 'different': 272, 'voice': 273, 'second': 274, 'summer': 275, 'its': 276, 'maybe': 277, 'important': 278, 'recently': 279, 'shopping': 280, 'enjoyed': 281, 'trip': 282, 'point': 283, 'difficult': 284, 'free': 285, 'interested': 286, 'end': 287, 'name': 288, 'heart': 289, 'month': 290, 'enough': 291, 'coming': 292, 'although': 293, 'clothes': 294, 'favorite': 295, 'easy': 296, 'kind': 297, 'class': 298, 'food': 299, 'saw': 300, 'someone': 301, 'looking': 302, 'must': 303, 'working': 304, 'parents': 305, 'live': 306, 'everyone': 307, 'china': 308, 'countries': 309, 'information': 310, 'movie': 311, 'children': 312, 'change': 313, 'buy': 314, 'popular': 315, 'test': 316, 'actually': 317, 'face': 318, 'reason': 319, 'strong': 320, 'weekend': 321, 'mother': 322, 'student': 323, 'making': 324, 'plan': 325, 'both': 326, 'lesson': 327, 'writing': 328, 'sentences': 329, 'far': 330, 'warm': 331, 'order': 332, 'mind': 333, 'hello': 334, 'able': 335, 'usually': 336, 'care': 337, 'wonder': 338, 'power': 339, 'call': 340, 'watching': 341, 'father': 342, 'forward': 343, 'communicate': 344, 'few': 345, 'told': 346, 'fun': 347, 'being': 348, 'true': 349, 'especially': 350, 'put': 351, 'story': 352, 'playing': 353, 'ask': 354, 'tv': 355, 'question': 356, 'news': 357, 'shop': 358, 'office': 359, 'until': 360, 'difference': 361, 'girl': 362, 'start': 363, 'finished': 364, 'kids': 365, 'happened': 366, 'talked': 367, 'therefore': 368, 'medicine': 369, 'lang': 370, 'listen': 371, 'weather': 372, 'feeling': 373, 'drink': 374, 'sleep': 375, 'tried': 376, 'watched': 377, 'tired': 378, 'picture': 379, 'form': 380, 'beautiful': 381, 'abroad': 382, 'bit': 383, 'looked': 384, 'soon': 385, 'often': 386, 'games': 387, 'times': 388, 'hate': 389, 'studied': 390, 'already': 391, 'knew': 392, 'society': 393, 'hi': 394, 'own': 395, 'grammar': 396, 'born': 397, 'instead': 398, 'heard': 399, 'decided': 400, 'visit': 401, 'university': 402, 'asked': 403, 'strange': 404, 'wish': 405, 'choose': 406, 'tokyo': 407, 'restaurant': 408, 'anything': 409, 'everything': 410, 'sister': 411, 'talking': 412, 'baby': 413, 'short': 414, 'native': 415, 'sunday': 416, 'homework': 417, 'course': 418, 'full': 419, 'doing': 420, 'catch': 421, 'body': 422, 'problems': 423, 'word': 424, 'city': 425, 'becomes': 426, 'nothing': 427, 'excited': 428, 'car': 429, 'store': 430, 'white': 431, 'sea': 432, 'delicious': 433, 'child': 434, 'third': 435, 'dear': 436, 'national': 437, 'right': 438, 'together': 439, 'cute': 440, 'money': 441, 'bread': 442, 'foreign': 443, 'anyway': 444, 'daughter': 445, 'above': 446, 'having': 447, 'using': 448, 'taking': 449, 'sorry': 450, 'big': 451, 'getting': 452, 'spend': 453, 'stories': 454, 'bought': 455, 'cause': 456, 'began': 457, 'once': 458, 'famous': 459, 'seems': 460, 'left': 461, 'floor': 462, 'bed': 463, 'natural': 464, 'totally': 465, 'changed': 466, 'interesting': 467, 'leave': 468, 'met': 469, 'rice': 470, 'website': 471, 'post': 472, 'attention': 473, 'stay': 474, 'during': 475, 'quite': 476, 'team': 477, 'lessons': 478, 'explain': 479, 'present': 480, 'sure': 481, 'wants': 482, 'price': 483, 'cost': 484, 'teaching': 485, 'south': 486, 'simple': 487, 'country': 488, 'including': 489, 'surprised': 490, 'watch': 491, 'keep': 492, 'nuclear': 493, 'seem': 494, 'meet': 495, 'reasons': 496, 'photo': 497, 'entrance': 498, 'tea': 499, 'songs': 500, 'human': 501, 'result': 502, 'answer': 503, 'mr': 504, 'hand': 505, 'season': 506, 'beginning': 507, 'sense': 508, 'ate': 509, 'alone': 510, 'evening': 511, 'outside': 512, 'nervous': 513, 'dinner': 514, 't': 515, 'young': 516, 'common': 517, 'send': 518, 'moment': 519, 'oh': 520, 'real': 521, 'late': 522, 'girls': 523, 'korean': 524, 'pictures': 525, 'mistakes': 526, 'century': 527, 'addition': 528, 'cooking': 529, 'months': 530, 'dark': 531, 'top': 532, 'card': 533, 'front': 534, 'employees': 535, 'self': 536, 'travel': 537, 'show': 538, 'whether': 539, 'hair': 540, 'vacation': 541, 'themselves': 542, 'knowledge': 543, 'eyes': 544, 'health': 545, 'someday': 546, 'forget': 547, 'entry': 548, 'fact': 549, 'reach': 550, 'kinds': 551, 'ice': 552, 'cream': 553, 'future': 554, 'tend': 555, 'girlfriend': 556, 'experience': 557, 'lose': 558, 'cars': 559, 'dream': 560, 'teach': 561, 'weight': 562, 'gave': 563, 'chance': 564, 'hospital': 565, 'phones': 566, 'speaking': 567, 'green': 568, 'prepare': 569, 'products': 570, 'became': 571, 'four': 572, 'college': 573, 'improve': 574, 'special': 575, 'machines': 576, 'sports': 577, 'funny': 578, 'twitter': 579, 'written': 580, 'master': 581, 'th': 582, 'eating': 583, 'decide': 584, 'spoke': 585, 'exams': 586, 'nobody': 587, 'character': 588, 'perhaps': 589, 'unless': 590, 'town': 591, 'autumn': 592, 'poor': 593, 'takes': 594, 'monday': 595, 'held': 596, 'situation': 597, 'appearance': 598, 'spring': 599, 'speakers': 600, 'thinking': 601, 'train': 602, 'journal': 603, 'meaning': 604, 'online': 605, 'languages': 606, 'video': 607, 'useful': 608, 'makes': 609, 'till': 610, 'whole': 611, 'mean': 612, 'area': 613, 'lives': 614, 'translation': 615, 'mobile': 616, 'exam': 617, 'small': 618, 'business': 619, 'characters': 620, 'introduce': 621, 'winter': 622, 'america': 623, 'weeks': 624, 'quality': 625, 'style': 626, 'realize': 627, 'sounds': 628, 'holiday': 629, 'woke': 630, 'wrote': 631, 'weird': 632, 'guys': 633, 'comes': 634, 'wrong': 635, 'worried': 636, 'stop': 637, 'compared': 638, 'rainy': 639, 'science': 640, 'married': 641, 'near': 642, 'yen': 643, 'motivation': 644, 'dreaming': 645, 'subject': 646, 'known': 647, 'phone': 648, 'april': 649, 'st': 650, 'opinion': 651, 'exercise': 652, 'tennis': 653, 'needs': 654, 'career': 655, 'mine': 656, 'plastic': 657, 'o': 658, 'gone': 659, 'according': 660, 'luck': 661, 'half': 662, 'early': 663, 'done': 664, 'failure': 665, 'besides': 666, 'advanced': 667, 'letter': 668, 'raining': 669, 'probably': 670, 'friday': 671, 'web': 672, 'rest': 673, 'view': 674, 'men': 675, 'women': 676, 'son': 677, 'idea': 678, 'win': 679, 'goes': 680, 'conversation': 681, 'husband': 682, 'stress': 683, 'workers': 684, 'large': 685, 'drive': 686, 'ok': 687, 'station': 688, 'electric': 689, 'oil': 690, 'easier': 691, 'pain': 692, 'stuffed': 693, 'soup': 694, 'couple': 695, 'afternoon': 696, 'similar': 697, 'production': 698, 'walk': 699, 'wedding': 700, 'karaoke': 701, 'lover': 702, 'economic': 703, 'planning': 704, 'join': 705, 'learned': 706, 'golden': 707, 'later': 708, 'vocabulary': 709, 'drama': 710, 'active': 711, 'hopefully': 712, 'type': 713, 'run': 714, 'anyone': 715, 'd': 716, 'color': 717, 'pass': 718, 'topic': 719, 'shows': 720, 'black': 721, 'yet': 722, 'scene': 723, 'pronounce': 724, 'matter': 725, 'requires': 726, 'solution': 727, 'traditional': 728, 'chocolate': 729, 'happen': 730, 'somewhere': 731, 'rid': 732, 'crab': 733, 'fewer': 734, 'died': 735, 'means': 736, 'saving': 737, 'cat': 738, 'received': 739, 'term': 740, 'causes': 741, 'based': 742, 'thoughts': 743, 'wife': 744, 'worked': 745, 'club': 746, 'mail': 747, 'blood': 748, 'easily': 749, 'least': 750, 'sunny': 751, 'materials': 752, 'quickly': 753, 'keeping': 754, 'busy': 755, 'cafe': 756, 'birthday': 757, 'festival': 758, 'rain': 759, 'rate': 760, 'lived': 761, 'dreams': 762, 'seven': 763, 'art': 764, 'spin': 765, 'energy': 766, 'states': 767, 'relieved': 768, 'review': 769, 'photos': 770, 'patterns': 771, 'accent': 772, 'prefer': 773, 'break': 774, 'door': 775, 'pieces': 776, 'bus': 777, 'heroes': 778, 'value': 779, 'lab': 780, 'experiences': 781, 'possible': 782, 'advice': 783, 'lack': 784, 'etc': 785, 'rather': 786, 'score': 787, 'cut': 788, 'turn': 789, 'sun': 790, 'education': 791, 'event': 792, 'places': 793, 'essential': 794, 'wash': 795, 'hands': 796, 'fine': 797, 'away': 798, 'suffering': 799, 'personal': 800, 'confident': 801, 'sick': 802, 'among': 803, 'pupils': 804, 'begin': 805, 'rent': 806, 'suddenly': 807, 'provide': 808, 'colleagues': 809, 'set': 810, 'companies': 811, 'march': 812, 'design': 813, 'trying': 814, 'control': 815, 'share': 816, 'guy': 817, 'piano': 818, 'wo': 819, 'harder': 820, 'walking': 821, 'required': 822, 'law': 823, 'past': 824, 'lucky': 825, 'bag': 826, 'developing': 827, 'reasonable': 828, 'sentence': 829, 'boss': 830, 'ten': 831, 'deal': 832, 'sport': 833, 'seemed': 834, 'cry': 835, 'hour': 836, 'complete': 837, 'wave': 838, 'cook': 839, 'stood': 840, 'france': 841, 'along': 842, 'cell': 843, 'improved': 844, 'sleepy': 845, 'report': 846, 'tonight': 847, 'dancing': 848, 'ms': 849, 'film': 850, 'conference': 851, 'passive': 852, 'paragraph': 853, 've': 854, 'red': 855, 'middle': 856, 'woman': 857, 'fell': 858, 'piece': 859, 'stuff': 860, 'heavy': 861, 'god': 862, 'skiing': 863, 'several': 864, 'ireland': 865, 'eye': 866, 'laugh': 867, 'joined': 868, 'living': 869, 'patient': 870, 'boyfriend': 871, 'lyrics': 872, 'friendly': 873, 'king': 874, 'co': 875, 'computer': 876, 'miss': 877, 'public': 878, 'meeting': 879, 'cartoon': 880, 'advance': 881, 'seeing': 882, 'successful': 883, 'program': 884, 'minute': 885, 'translate': 886, 'weak': 887, 'semester': 888, 'cool': 889, 'hotel': 890, 'afraid': 891, 'l': 892, 'wearing': 893, 'access': 894, 'loved': 895, 'attitude': 896, 'technology': 897, 'spanish': 898, 'overcome': 899, 'fortunately': 900, 'older': 901, 'methods': 902, 'taiwanese': 903, 'addicted': 904, 'stars': 905, 'remains': 906, 'hmm': 907, 'brought': 908, 'raised': 909, 'fluently': 910, 'surgery': 911, 'medical': 912, 'diseases': 913, 'pattern': 914, 'smell': 915, 'progress': 916, 'coffee': 917, 'grandfather': 918, 'immediately': 919, 'episode': 920, 'throat': 921, 'apartment': 922, 'conclusion': 923, 'formed': 924, 'follow': 925, 'effective': 926, 'efforts': 927, 'clean': 928, 'ticket': 929, 'sitcom': 930, 'ever': 931, 'crisis': 932, 'calm': 933, 'capital': 934, 'senior': 935, 'party': 936, 'users': 937, 'impressed': 938, 'hearing': 939, 'cherry': 940, 'blossom': 941, 'global': 942, 'branch': 943, 'goal': 944, 'sold': 945, 'driving': 946, 'policy': 947, 'alive': 948, 'comments': 949, 'acquaintance': 950, 'airport': 951, 'june': 952, 'blue': 953, 'sky': 954, 'surrounded': 955, 'shrine': 956, 'sitting': 957, 'arabic': 958, 'himself': 959, 'bother': 960, 'member': 961, 'group': 962, 'degree': 963, 'yuna': 964, 'advertise': 965, 'spoken': 966, 'kyou': 967, 'cup': 968, 'wake': 969, 'sing': 970, 'nowadays': 971, 'combined': 972, 'television': 973, 'fast': 974, 'wishes': 975, 'ceremony': 976, 'olympics': 977, 'six': 978, 'hurt': 979, 'served': 980, 'attending': 981, 'teachers': 982, 'chat': 983, 'under': 984, 'comment': 985, 'exceed': 986, 'history': 987, 'hold': 988, 'sweets': 989, 'serious': 990, 'plant': 991, 'accident': 992, 'stations': 993, 'meat': 994, 'bicycle': 995, 'depressed': 996, 'sales': 997, 'pcs': 998, 'market': 999, 'fans': 1000, 'open': 1001, 'standing': 1002, 'thousands': 1003, 'main': 1004, 'judging': 1005, 'guessed': 1006, 'basically': 1007, 'adult': 1008, 'promised': 1009, 'beginner': 1010, 'swiss': 1011, 'shower': 1012, 'toy': 1013, 'flash': 1014, 'research': 1015, 'unknown': 1016, 'thirty': 1017, 'organization': 1018, 'paper': 1019, 'follows': 1020, 'animals': 1021, 'defense': 1022, 'documents': 1023, 'wii': 1024, 'expressions': 1025, 'case': 1026, 'shortage': 1027, 'traffic': 1028, 'e': 1029, 'novel': 1030, 'shirt': 1031, 'asia': 1032, 'bright': 1033, 'beijing': 1034, 'buildings': 1035, 'save': 1036, 'multiple': 1037, 'poem': 1038, 'dislike': 1039, 'comparing': 1040, 'noticed': 1041, 'flowers': 1042, 'survive': 1043, 'social': 1044, 'network': 1045, 'says': 1046, 'gives': 1047, 'surprise': 1048, 'device': 1049, 'scores': 1050, 'accept': 1051, 'solve': 1052, 'beauty': 1053, 'snow': 1054, 'throughout': 1055, 'types': 1056, 'shown': 1057, 'stand': 1058, 'kanji': 1059, 'alphabets': 1060, 'lines': 1061, 'route': 1062, 'dorm': 1063, 'necessary': 1064, 'grammatical': 1065, 'kill': 1066, 'worse': 1067, 'level': 1068, 'various': 1069, 'remember': 1070, 'given': 1071, 'reward': 1072, 'convenient': 1073, 'hobby': 1074, 'fire': 1075, 'purpose': 1076, 'graduation': 1077, 'lazy': 1078, 'pretty': 1079, 'tough': 1080, 'universities': 1081, 'management': 1082, 'election': 1083, 'thin': 1084, 'road': 1085, 'arrived': 1086, 'mountain': 1087, 'correction': 1088, 'yummy': 1089, 'points': 1090, 'mistake': 1091, 'wait': 1092, 'boring': 1093, 'solved': 1094, 'mirror': 1095, 'island': 1096, 'secondly': 1097, 'system': 1098, 'aware': 1099, 'strike': 1100, 'saturday': 1101, 'culture': 1102, 'drawing': 1103, 'guess': 1104, 'visiting': 1105, 'length': 1106, 'advertisement': 1107, 'contents': 1108, 'detail': 1109, 'tasks': 1110, 'microphone': 1111, 'mouse': 1112, 'sweet': 1113, 'relationships': 1114, 'passion': 1115, 'secret': 1116, 'account': 1117, 'security': 1118, 'contrary': 1119, 'apply': 1120, 'cows': 1121, 'record': 1122, 'match': 1123, 'foreigners': 1124, 'll': 1125, 'rush': 1126, 'general': 1127, 'junior': 1128, 'members': 1129, 'stayed': 1130, 'customers': 1131, 'table': 1132, 'snack': 1133, 'doctor': 1134, 'maker': 1135, 'careful': 1136, 'breaking': 1137, 'hell': 1138, 'exciting': 1139, 'player': 1140, 'misunderstanding': 1141, 'shape': 1142, 'absolutely': 1143, 'unexpectedly': 1144, 'reported': 1145, 'sisters': 1146, 'essay': 1147, 'practise': 1148, 'december': 1149, 'fit': 1150, 'complicated': 1151, 'fashion': 1152, 'articles': 1153, 'simply': 1154, 'window': 1155, 'garden': 1156, 'official': 1157, 'classmates': 1158, 'weekends': 1159, 'apple': 1160, 'mark': 1161, 'romantic': 1162, 'canada': 1163, 'moments': 1164, 'limited': 1165, 'reports': 1166, 'healthy': 1167, 'hang': 1168, 'basic': 1169, 'flour': 1170, 'ingredients': 1171, 'cakes': 1172, 'sydney': 1173, 'gain': 1174, 'government': 1175, 'australian': 1176, 'death': 1177, 'sake': 1178, 'tells': 1179, 'uncountable': 1180, 'single': 1181, 'truth': 1182, 'thousand': 1183, 'acne': 1184, 'enter': 1185, 'elementary': 1186, 'brazil': 1187, 'fever': 1188, 'community': 1189, 'build': 1190, 'learners': 1191, 'center': 1192, 'opened': 1193, 'supermarket': 1194, 'favourite': 1195, 'honest': 1196, 'turned': 1197, 'fictional': 1198, 'wondering': 1199, 'memorize': 1200, 'happens': 1201, 'light': 1202, 'international': 1203, 'despite': 1204, 'mission': 1205, 'sample': 1206, 'expression': 1207, 'math': 1208, 'volleyball': 1209, 'elevator': 1210, 'previous': 1211, 'contact': 1212, 'lenses': 1213, 'board': 1214, 'curry': 1215, 'moreover': 1216, 'includes': 1217, 'service': 1218, 'earthquake': 1219, 'mostly': 1220, 'beside': 1221, 'source': 1222, 'pressure': 1223, 'major': 1224, 'trouble': 1225, 'bike': 1226, 'generation': 1227, 'regards': 1228, 'kept': 1229, 'possibility': 1230, 'success': 1231, 'highly': 1232, 'daily': 1233, 'everybody': 1234, 'somebody': 1235, 'cloudy': 1236, 'nature': 1237, 'crew': 1238, 'jobs': 1239, 'earth': 1240, 'mended': 1241, 'disappeared': 1242, 'york': 1243, 'drinking': 1244, 'dormitory': 1245, 'performance': 1246, 'violence': 1247, 'caught': 1248, 'horse': 1249, 'aged': 1250, 'roll': 1251, 'differences': 1252, 'adjectives': 1253, 'certain': 1254, 'refresh': 1255, 'comic': 1256, 'check': 1257, 'german': 1258, 'scenes': 1259, 'path': 1260, 'gift': 1261, 'fighting': 1262, 'difficulty': 1263, 'looks': 1264, 'mom': 1265, 'broken': 1266, 'won': 1267, 'continues': 1268, 'shut': 1269, 'memory': 1270, 'tom': 1271, 'playground': 1272, 'popped': 1273, 'comfortable': 1274, 'concert': 1275, 'fat': 1276, 'media': 1277, 'bet': 1278, 'satisfied': 1279, 'families': 1280, 'shelter': 1281, 'faced': 1282, 'typhoon': 1283, 'individuals': 1284, 'hear': 1285, 'removed': 1286, 'retirement': 1287, 'improving': 1288, 'sending': 1289, 'sensitive': 1290, 'marry': 1291, 'relations': 1292, 'usa': 1293, 'convenience': 1294, 'nose': 1295, 'snowstorm': 1296, 'uk': 1297, 'expectation': 1298, 'minds': 1299, 'golf': 1300, 'gradually': 1301, 'touch': 1302, 'dance': 1303, 'ship': 1304, 'expensive': 1305, 'lost': 1306, 'confess': 1307, 'nearby': 1308, 'possibly': 1309, 'air': 1310, 'wow': 1311, 'ugly': 1312, 'cm': 1313, 'java': 1314, 'vietnam': 1315, 'brothers': 1316, 'awesome': 1317, 'travelling': 1318, 'closed': 1319, 'telephone': 1320, 'interview': 1321, 'holidays': 1322, 'realized': 1323, 'pay': 1324, 'fresh': 1325, 'humid': 1326, 'net': 1327, 'anybody': 1328, 'lovely': 1329, 'recommend': 1330, 'lies': 1331, 'overtime': 1332, 'completely': 1333, 'ordered': 1334, 'kitchen': 1335, 'destiny': 1336, 'connection': 1337, 'swim': 1338, 'babies': 1339, 'england': 1340, 'volunteers': 1341, 'water': 1342, 'structure': 1343, 'physical': 1344, 'thus': 1345, 'waiting': 1346, 'theater': 1347, 'jackson': 1348, 'worker': 1349, 'latest': 1350, 'grace': 1351, 'model': 1352, 'continued': 1353, 'showed': 1354, 'identification': 1355, 'absorbed': 1356, 'lots': 1357, 'text': 1358, 'credit': 1359, 'fee': 1360, 'fix': 1361, 'discussion': 1362, 'u': 1363, 'martial': 1364, 'flies': 1365, 'badminton': 1366, 'ground': 1367, 'commercial': 1368, 'communication': 1369, 'tools': 1370, 'fermented': 1371, 'naturally': 1372, 'stopped': 1373, 'leaves': 1374, 'google': 1375, 'graphics': 1376, 'line': 1377, 'earn': 1378, 'somehow': 1379, 'tall': 1380, 'photograph': 1381, 'ipod': 1382, 'expected': 1383, 'agree': 1384, 'hero': 1385, 'particular': 1386, 'don': 1387, 'baseball': 1388, 'chances': 1389, 'consciousness': 1390, 'roommate': 1391, 'non': 1392, 'schedules': 1393, 'ability': 1394, 'chuck': 1395, 're': 1396, 'otherwise': 1397, 'praise': 1398, 'curious': 1399, 'videos': 1400, 'finish': 1401, 'pop': 1402, 'manager': 1403, 'height': 1404, 'limit': 1405, 'appliances': 1406, 'dentist': 1407, 'recycling': 1408, 'plastics': 1409, 'machinery': 1410, 'comparison': 1411, 'contrast': 1412, 'kyouke': 1413, 'ankle': 1414, 'knee': 1415, 'painful': 1416, 'grasped': 1417, 'belly': 1418, 'peach': 1419, 'koreans': 1420, 'harmed': 1421, 'bullying': 1422, 'india': 1423, 'auto': 1424, 'rickshaws': 1425, 'iphone': 1426, 'impressions': 1427, 'bilingual': 1428, 'mins': 1429, 'scary': 1430, 'cellular': 1431, 'influence': 1432, 'devices': 1433, 'takahiro': 1434, 'proud': 1435, 'anime': 1436, 'calculation': 1437, 'corrected': 1438, 'changes': 1439, 'inventory': 1440, 'flatmate': 1441, 'flat': 1442, 'injure': 1443, 'jot': 1444, 'enjoyable': 1445, 'grandmother': 1446, 'funerals': 1447, 'rubber': 1448, 'pulse': 1449, 'launched': 1450, 'wrapped': 1451, 'corns': 1452, 'twins': 1453, 'hire': 1454, 'cleaners': 1455, 'moderates': 1456, 'east': 1457, 'introduced': 1458, 'author': 1459, 'persuaded': 1460, 'reader': 1461, 'consent': 1462, 'protect': 1463, 'closely': 1464, 'plans': 1465, 'dedicated': 1466, 'suite': 1467, 'coupon': 1468, 'forth': 1469, 'chock': 1470, 'stink': 1471, 'coins': 1472, 'recessions': 1473, 'scream': 1474, 'allergy': 1475, 'avocado': 1476, 'psychology': 1477, 'emperor': 1478, 'multi': 1479, 'tasking': 1480, 'wore': 1481, 'disappointed': 1482, 'charlie': 1483, 'jumped': 1484, 'glad': 1485, 'promise': 1486, 'nod': 1487, 'textbooks': 1488, 'exercises': 1489, 'flatter': 1490, 'weeker': 1491, 'homogeneous': 1492, 'relatively': 1493, 'egyptian': 1494, 'leadership': 1495, 'ruling': 1496, 'h': 1497, 'unexpected': 1498, 'situations': 1499, 'pronouncing': 1500, 'nationality': 1501, 'snowing': 1502, 'drove': 1503, 'charge': 1504, 'systems': 1505, 'installed': 1506, 'select': 1507, 'indented': 1508, 'asking': 1509, 'actions': 1510, 'certainly': 1511, 'slow': 1512, 'figured': 1513, 'geek': 1514, 'chubby': 1515, 'pig': 1516, 'goodness': 1517, 'customer': 1518, 'contentedly': 1519, 'fantastic': 1520, 'wild': 1521, 'beaches': 1522, 'emerald': 1523, 'bittersweet': 1524, 'cereal': 1525, 'ran': 1526, 'subway': 1527, 'asks': 1528, 'renting': 1529, 'dining': 1530, 'rooms': 1531, 'bbs': 1532, 'constantly': 1533, 'enrolled': 1534, 'cram': 1535, 'examination': 1536, 'doubt': 1537, 'judgment': 1538, 'unbelievably': 1539, 'slander': 1540, 'discriminative': 1541, 'uncomfortable': 1542, 'beneficial': 1543, 'disagree': 1544, 'clannad': 1545, 'extra': 1546, 'chapter': 1547, 'precious': 1548, 'eve': 1549, 'awful': 1550, 'soymilk': 1551, 'strawberry': 1552, 'barley': 1553, 'checked': 1554, 'exhibition': 1555, 'revolution': 1556, 'involve': 1557, 'else': 1558, 'keeps': 1559, 'restaurants': 1560, 'mid': 1561, 'handwritings': 1562, 'paintings': 1563, 'exhibited': 1564, 'opening': 1565, 'walked': 1566, 'disturbs': 1567, 'seminar': 1568, 'reference': 1569, 'construction': 1570, 'remained': 1571, 'barks': 1572, 'loudly': 1573, 'instance': 1574, 'barbecue': 1575, 'fruit': 1576, 'nerve': 1577, 'challenge': 1578, 'tourists': 1579, 'saipan': 1580, 'guam': 1581, 'football': 1582, 'broke': 1583, 'lady': 1584, 'sam': 1585, 'annual': 1586, 'translated': 1587, 'martian': 1588, 'hey': 1589, 'doctors': 1590, 'fall': 1591, 'patients': 1592, 'designs': 1593, 'shy': 1594, 'focus': 1595, 'deadly': 1596, 'competitors': 1597, 'cats': 1598, 'brain': 1599, 'activated': 1600, 'actor': 1601, 'actress': 1602, 'muslims': 1603, 'johnny': 1604, 'depp': 1605, 'questioners': 1606, 'treated': 1607, 'positive': 1608, 'omitted': 1609, 'labor': 1610, 'lower': 1611, 'payment': 1612, 'pulled': 1613, 'shuttlecock': 1614, 'kicked': 1615, 'ants': 1616, 'options': 1617, 'jeon': 1618, 'decides': 1619, 'fired': 1620, 'websites': 1621, 'professor': 1622, 'panda': 1623, 'reality': 1624, 'behaving': 1625, 'fade': 1626, 'tail': 1627, 'lamp': 1628, 'automatically': 1629, 'gets': 1630, 'weaving': 1631, 'signal': 1632, 'battery': 1633, 'generated': 1634, 'solar': 1635, 'entered': 1636, 'classroom': 1637, 'halfway': 1638, 'nine': 1639, 'artists': 1640, 'boys': 1641, 'intently': 1642, 'obscure': 1643, 'guitar': 1644, 'lie': 1645, 'wwf': 1646, 'mundial': 1647, 'siblings': 1648, 'seldom': 1649, 'b': 1650, 'lonely': 1651, 'wines': 1652, 'supply': 1653, 'hindrance': 1654, 'deadline': 1655, 'thesis': 1656, 'poirot': 1657, 'debut': 1658, 'mysterious': 1659, 'affair': 1660, 'styles': 1661, 'published': 1662, 'john': 1663, 'lane': 1664, 'typical': 1665, 'running': 1666, 'placed': 1667, 'gallery': 1668, 'broadcast': 1669, 'fox': 1670, 'immerse': 1671, 'itself': 1672, 'unite': 1673, 'partner': 1674, 'longed': 1675, 'luckiest': 1676, 'side': 1677, 'situated': 1678, 'application': 1679, 'photocatalystic': 1680, 'walls': 1681, 'glass': 1682, 'collect': 1683, 'errands': 1684, 'thumbing': 1685, 'exact': 1686, 'americans': 1687, 'silences': 1688, 'conversations': 1689, 'presentation': 1690, 'gesture': 1691, 'humor': 1692, 'timing': 1693, 'samurai': 1694, 'spirit': 1695, 'communicating': 1696, 'useless': 1697, 'meaningless': 1698, 'bleak': 1699, 'five': 1700, 'kenting': 1701, 'unlike': 1702, 'invention': 1703, 'weapons': 1704, 'engineers': 1705, 'invented': 1706, 'devotion': 1707, 'mankind': 1708, 'dig': 1709, 'clams': 1710, 'clam': 1711, 'pessimistic': 1712, 'pizzas': 1713, 'wlan': 1714, 'rose': 1715, 'penetrated': 1716, 'bullet': 1717, 'heritage': 1718, 'pst': 1719, 'bc': 1720, 'gst': 1721, 'results': 1722, 'harmonized': 1723, 'tax': 1724, 'olden': 1725, 'portuguese': 1726, 'macau': 1727, 'trade': 1728, 'changing': 1729, 'willing': 1730, 'sleeping': 1731, 'cinderella': 1732, 'beast': 1733, 'dwarfs': 1734, 'mermaid': 1735, 'id': 1736, 'functions': 1737, 'district': 1738, 'eaten': 1739, 'connections': 1740, 'examples': 1741, 'direction': 1742, 'chart': 1743, 'complexity': 1744, 'close': 1745, 'band': 1746, 'dots': 1747, 'composer': 1748, 'emotion': 1749, 'falls': 1750, 'sanamhoug': 1751, 'gun': 1752, 'shocked': 1753, 'departure': 1754, 'spent': 1755, 'enquired': 1756, 'decorative': 1757, 'returned': 1758, 'packed': 1759, 'items': 1760, 'backpacks': 1761, 'kimchi': 1762, 'stew': 1763, 'pizza': 1764, 'bulgarians': 1765, 'laid': 1766, 'siege': 1767, 'larissa': 1768, 'nocturnal': 1769, 'chatting': 1770, 'increase': 1771, 'tension': 1772, 'shellfishes': 1773, 'retouch': 1774, 'jrtain': 1775, 'everywhere': 1776, 'osaka': 1777, 'internship': 1778, 'posters': 1779, 'higher': 1780, 'subcontracting': 1781, 'asian': 1782, 'wrongly': 1783, 'inefficiently': 1784, 'learnt': 1785, 'excuses': 1786, 'deceive': 1787, 'ironic': 1788, 'obviously': 1789, 'goofing': 1790, 'kamikaze': 1791, 'pilots': 1792, 'war': 1793, 'false': 1794, 'colder': 1795, 'bass': 1796, 'jazz': 1797, 'swings': 1798, 'horrible': 1799, 'parade': 1800, 'paperback': 1801, 'husbands': 1802, 'surrounding': 1803, 'cooperation': 1804, 'smells': 1805, 'wednesday': 1806, 'intensified': 1807, 'saved': 1808, 'exhaust': 1809, 'gases': 1810, 'enjoyment': 1811, 'rely': 1812, 'nation': 1813, 'finances': 1814, 'library': 1815, 'lent': 1816, 'pushing': 1817, 'cheif': 1818, 'admin': 1819, 'compete': 1820, 'overseas': 1821, 'period': 1822, 'massage': 1823, 'diaries': 1824, 'skype': 1825, 'rude': 1826, 'manner': 1827, 'monumental': 1828, 'graduated': 1829, 'dull': 1830, 'strict': 1831, 'motivated': 1832, 'traditions': 1833, 'cultures': 1834, 'flank': 1835, 'backpackers': 1836, 'usps': 1837, 'rider': 1838, 'riding': 1839, 'toward': 1840, 'curved': 1841, 'slowed': 1842, 'cooler': 1843, 'buying': 1844, 'presser': 1845, 'financial': 1846, 'households': 1847, 'tranquil': 1848, 'vehement': 1849, 'spaces': 1850, 'stupid': 1851, 'rio': 1852, 'diminish': 1853, 'conducting': 1854, 'measure': 1855, 'skill': 1856, 'satisfaction': 1857, 'refreshing': 1858, 'highschool': 1859, 'spending': 1860, 'setting': 1861, 'omg': 1862, 'mexicans': 1863, 'originated': 1864, 'swans': 1865, 'hawaii': 1866, 'united': 1867, 'concerned': 1868, 'ear': 1869, 'makers': 1870, 'toyota': 1871, 'panasonic': 1872, 'grandpa': 1873, 'incense': 1874, 'sticks': 1875, 'treats': 1876, 'graves': 1877, 'prayed': 1878, 'peaceful': 1879, 'repose': 1880, 'ancestors': 1881, 'recent': 1882, 'conditions': 1883, 'paranoia': 1884, 'freedom': 1885, 'tech': 1886, 'criminals': 1887, 'invade': 1888, 'computers': 1889, 'steal': 1890, 'bank': 1891, 'codes': 1892, 'threatens': 1893, 'greatly': 1894, 'utmost': 1895, 'defeat': 1896, 'plight': 1897, 'hotpot': 1898, 'skip': 1899, 'classes': 1900, 'successfully': 1901, 'pleased': 1902, 'grades': 1903, 'normal': 1904, 'appear': 1905, 'bakery': 1906, 'willingly': 1907, 'explained': 1908, 'pulling': 1909, 'punches': 1910, 'hotness': 1911, 'busan': 1912, 'shouted': 1913, 'shout': 1914, 'taiwan': 1915, 'motorcycle': 1916, 'noun': 1917, 'vs': 1918, 'russia': 1919, 'released': 1920, 'mat': 1921, 'composition': 1922, 'ideas': 1923, 'coordination': 1924, 'clear': 1925, 'gratitude': 1926, 'roses': 1927, 'summertime': 1928, 'classmate': 1929, 'gay': 1930, 'replied': 1931, 'managed': 1932, 'confuse': 1933, 'fiscal': 1934, 'happily': 1935, 'waited': 1936, 'tune': 1937, 'bathing': 1938, 'disneyland': 1939, 'entertain': 1940, 'include': 1941, 'depicting': 1942, 'cable': 1943, 'dramas': 1944, 'jubay': 1945, 'observe': 1946, 'hehe': 1947, 'newspaper': 1948, 'male': 1949, 'waist': 1950, 'czech': 1951, 'republic': 1952, 'french': 1953, 'frequently': 1954, 'database': 1955, 'happiness': 1956, 'reuit': 1957, 'vennhoven': 1958, 'extroverts': 1959, 'happier': 1960, 'introverts': 1961, 'optimists': 1962, 'pessimists': 1963, 'singles': 1964, 'ubiquitous': 1965, 'phenomenon': 1966, 'nooooooooooo': 1967, 'recommended': 1968, 'cheaper': 1969, 'umbrella': 1970, 'figure': 1971, 'players': 1972, 'mutual': 1973, 'nz': 1974, 'seriously': 1975, 'subjected': 1976, 'insufferably': 1977, 'status': 1978, 'camembert': 1979, 'cheese': 1980, 'snowboarding': 1981, 'distinguish': 1982, 'richman': 1983, 'opportunities': 1984, 'appendix': 1985, 'haha': 1986, 'repaired': 1987, 'arm': 1988, 'leg': 1989, 'dad': 1990, 'accordingly': 1991, 'graduating': 1992, 'powers': 1993, 'productive': 1994, 'attracted': 1995, 'opportunity': 1996, 'engage': 1997, 'hydrangeas': 1998, 'blooming': 1999, 'beautifully': 2000, 'streets': 2001, 'admission': 2002, 'thursday': 2003, 'yorch': 2004, 'killed': 2005, 'professional': 2006, 'chemistry': 2007, 'cosy': 2008, 'london': 2009, 'multiculturalism': 2010, 'abilities': 2011, 'kindly': 2012, 'bug': 2013, 'safe': 2014, 'british': 2015, 'wheat': 2016, 'cheeses': 2017, 'octopuses': 2018, 'lobsters': 2019, 'additionally': 2020, 'kick': 2021, 'vehicles': 2022, 'parked': 2023, 'gold': 2024, 'coast': 2025, 'theatre': 2026, 'cabbage': 2027, 'egg': 2028, 'carrot': 2029, 'blanket': 2030, 'lazyness': 2031, 'shame': 2032, 'interacted': 2033, 'exchange': 2034, 'accidentally': 2035, 'sad': 2036, 'hopeless': 2037, 'loud': 2038, 'brother': 2039, 'mad': 2040, 'treasures': 2041, 'kidding': 2042, 'sealed': 2043, 'packing': 2044, 'commodities': 2045, 'cheaply': 2046, 'talisman': 2047, 'prepares': 2048, 'sanctions': 2049, 'syria': 2050, 'farm': 2051, 'alpine': 2052, 'persuasive': 2053, 'nursery': 2054, 'interests': 2055, 'concerning': 2056, 'penalty': 2057, 'adopted': 2058, 'crime': 2059, 'prevention': 2060, 'surrogate': 2061, 'internal': 2062, 'additions': 2063, 'create': 2064, 'synergy': 2065, 'stepmother': 2066, 'substantial': 2067, 'guilty': 2068, 'log': 2069, 'aircraft': 2070, 'airline': 2071, 'earlier': 2072, 'spite': 2073, 'toronto': 2074, 'plural': 2075, 'celebrate': 2076, 'operation': 2077, 'manual': 2078, 'clerk': 2079, 'bounce': 2080, 'clumsy': 2081, 'examine': 2082, 'surprising': 2083, 'costs': 2084, 'swimming': 2085, 'pool': 2086, 'w': 2087, 'product': 2088, 'included': 2089, 'benzoyl': 2090, 'peroxide': 2091, 'heal': 2092, 'donation': 2093, 'package': 2094, 'satchels': 2095, 'temperatures': 2096, 'hatched': 2097, 'nail': 2098, 'polishes': 2099, 'pharmacy': 2100, 'fill': 2101, 'operator': 2102, 'electrical': 2103, 'repair': 2104, 'ma': 2105, 'vancouver': 2106, 'cooker': 2107, 'patched': 2108, 'tastes': 2109, 'gist': 2110, 'tossed': 2111, 'sneezed': 2112, 'anymore': 2113, 'subways': 2114, 'crowded': 2115, 'mega': 2116, 'anyways': 2117, 'average': 2118, 'yellow': 2119, 'sand': 2120, 'troubled': 2121, 'ironically': 2122, 'endeavors': 2123, 'resulted': 2124, 'heads': 2125, 'downwards': 2126, 'soak': 2127, 'foot': 2128, 'code': 2129, 'creates': 2130, 'sine': 2131, 'adobe': 2132, 'document': 2133, 'sort': 2134, 'collaborative': 2135, 'pc': 2136, 'layer': 2137, 'rectangles': 2138, 'sides': 2139, 'paris': 2140, 'forgot': 2141, 'attract': 2142, 'stung': 2143, 'daughters': 2144, 'ride': 2145, 'moving': 2146, 'alarm': 2147, 'fried': 2148, 'noodles': 2149, 'icon': 2150, 'attend': 2151, 'tryout': 2152, 'add': 2153, 'pumpkin': 2154, 'pet': 2155, 'hates': 2156, 'selected': 2157, 'calling': 2158, 'hong': 2159, 'kong': 2160, 'tremendous': 2161, 'magical': 2162, 'simultaneously': 2163, 'cherished': 2164, 'relationship': 2165, 'diabetes': 2166, 'caused': 2167, 'obesity': 2168, 'afterwards': 2169, 'brew': 2170, 'twentieth': 2171, 'across': 2172, 'seat': 2173, 'samsung': 2174, 'electronics': 2175, 'manufacturing': 2176, 'entrust': 2177, 'components': 2178, 'subsidiary': 2179, 'nearly': 2180, 'dramatically': 2181, 'either': 2182, 'automaton': 2183, 'giving': 2184, 'jorge': 2185, 'commit': 2186, 'suicide': 2187, 'gossip': 2188, 'angry': 2189, 'hunter': 2190, 'feast': 2191, 'oppressed': 2192, 'sweat': 2193, 'miku': 2194, 'natured': 2195, 'regrettable': 2196, 'recorded': 2197, 'cherish': 2198, 'herself': 2199, 'desires': 2200, 'lying': 2201, 'furthermore': 2202, 'torn': 2203, 'hundreds': 2204, 'shepherd': 2205, 'sat': 2206, 'heels': 2207, 'intensely': 2208, 'bar': 2209, 'plumbers': 2210, 'hostfamily': 2211, 'filipino': 2212, 'fry': 2213, 'rise': 2214, 'handle': 2215, 'wood': 2216, 'exclusively': 2217, 'actors': 2218, 'press': 2219, 'sided': 2220, 'victim': 2221, 'behavior': 2222, 'causing': 2223, 'correctly': 2224, 'winds': 2225, 'turning': 2226, 'athletes': 2227, 'noise': 2228, 'trash': 2229, 'anytime': 2230, 'teenagers': 2231, 'circumstances': 2232, 'surround': 2233, 'southeast': 2234, 'clothing': 2235, 'size': 2236, 'critical': 2237, 'behave': 2238, 'dreamed': 2239, 'breeding': 2240, 'bhutanese': 2241, 'foods': 2242, 'chili': 2243, 'subtle': 2244, 'seasoning': 2245, 'mock': 2246, 'gaining': 2247, 'windfall': 2248, 'sight': 2249, 'holding': 2250, 'tight': 2251, 'diet': 2252, 'direct': 2253, 'shoes': 2254, 'choice': 2255, 'arabs': 2256, 'recognize': 2257, 'unaware': 2258, 'fish': 2259, 'lending': 2260, 'helped': 2261, 'describe': 2262, 'eternal': 2263, 'unnatural': 2264, 'lasts': 2265, 'parting': 2266, 'younger': 2267, 'pepsi': 2268, 'coke': 2269, 'quantization': 2270, 'revision': 2271, 'murphy': 2272, 'passage': 2273, 'tag': 2274, 'controversial': 2275, 'wear': 2276, 'glasses': 2277, 'lens': 2278, 'hinata': 2279, 'bouquet': 2280, 'handmade': 2281, 'haunted': 2282, 'evil': 2283, 'spirits': 2284, 'drop': 2285, 'sore': 2286, 'cancel': 2287, 'difficulties': 2288, 'norway': 2289, 'leading': 2290, 'recession': 2291, 'costumes': 2292, 'encourage': 2293, 'blown': 2294, 'golfing': 2295, 'expressed': 2296, 'steel': 2297, 'dollar': 2298, 'sweethearts': 2299, 'observatory': 2300, 'built': 2301, 'weaken': 2302, 'statement': 2303, 'pasta': 2304, 'bye': 2305, 'jim': 2306, 'scarf': 2307, 'oven': 2308, 'vantagio': 2309, 'values': 2310, 'campus': 2311, 'adjust': 2312, 'dfll': 2313, 'earthquakes': 2314, 'tsunami': 2315, 'elderly': 2316, 'pets': 2317, 'contemporary': 2318, 'significant': 2319, 'role': 2320, 'abundant': 2321, 'hairstyle': 2322, 'praised': 2323, 'colleague': 2324, 'expenses': 2325, 'yellowstone': 2326, 'rising': 2327, 'swollen': 2328, 'engineer': 2329, 'effort': 2330, 'ages': 2331, 'sinano': 2332, 'river': 2333, 'valley': 2334, 'largest': 2335, 'relaxed': 2336, 'argentina': 2337, 'popularity': 2338, 'somewhat': 2339, 'rich': 2340, 'quick': 2341, 'glory': 2342, 'equity': 2343, 'traded': 2344, 'fundamental': 2345, 'flower': 2346, 'cake': 2347, 'becouse': 2348, 'pride': 2349, 'sons': 2350, 'express': 2351, 'cleverly': 2352, 'constructed': 2353, 'separated': 2354, 'parts': 2355, 'mademoiselle': 2356, 'proved': 2357, 'effectiveness': 2358, 'against': 2359, 'ailments': 2360, 'natalia': 2361, 'accidents': 2362, 'injuries': 2363, 'deaths': 2364, 'catching': 2365, 'hoarse': 2366, 'eggs': 2367, 'hectic': 2368, 'literature': 2369, 'pm': 2370, 'nuts': 2371, 'milky': 2372, 'ayers': 2373, 'rock': 2374, 'resort': 2375, 'terms': 2376, 'wisdom': 2377, 'teeth': 2378, 'vegetable': 2379, 'saying': 2380, 'gazed': 2381, 'implications': 2382, 'behind': 2383, 'age': 2384, 'weights': 2385, 'woodman': 2386, 'instrument': 2387, 'foreigner': 2388, 'anne': 2389, 'mary': 2390, 'introducing': 2391, 'dog': 2392, 'joints': 2393, 'wi': 2394, 'fi': 2395, 'airplane': 2396, 'mtg': 2397, 'quit': 2398, 'bikini': 2399, 'finance': 2400, 'starts': 2401, 'blowin': 2402, 'remembered': 2403, 'fear': 2404, 'extract': 2405, 'poetry': 2406, 'youtube': 2407, 'channel': 2408, 'banner': 2409, 'vote': 2410, 'discovered': 2411, 'homepage': 2412, 'forgotten': 2413, 'swing': 2414, 'europe': 2415, 'festivals': 2416, 'following': 2417, 'syllables': 2418, 'downfall': 2419, 'driven': 2420, 'surfing': 2421, 'films': 2422, 'universe': 2423, 'outcry': 2424, 'measures': 2425, 'grow': 2426, 'relatives': 2427, 'raemon': 2428, 'barber': 2429, 'instruments': 2430, 'jointly': 2431, 'owned': 2432, 'legal': 2433, 'persons': 2434, 'joint': 2435, 'ownership': 2436, 'thereof': 2437, 'shall': 2438, 'registered': 2439, 'registration': 2440, 'administration': 2441, 'amount': 2442, 'indicate': 2443, 'norwegian': 2444, 'programmer': 2445, 'copy': 2446, 'collins': 2447, 'cobuild': 2448, 'learner': 2449, 'dictionary': 2450, 'fingers': 2451, 'crossed': 2452, 'kissed': 2453, 'examinations': 2454, 'hehehe': 2455, 'presents': 2456, 'illness': 2457, 'formality': 2458, 'uncertain': 2459, 'letters': 2460, 'feature': 2461, 'boiled': 2462, 'jokes': 2463, 'private': 2464, 'schools': 2465, 'september': 2466, 'engaged': 2467, 'ballet': 2468, 'cambridgerose': 2469, 'cyber': 2470, 'replace': 2471, 'paperbooks': 2472, 'force': 2473, 'military': 2474, 'affairs': 2475, 'leader': 2476, 'incredible': 2477, 'lada': 2478, 'swear': 2479, 'groups': 2480, 'currently': 2481, 'laboratory': 2482, 'relieve': 2483, 'bill': 2484, 'jessica': 2485, 'alba': 2486, 'dreamt': 2487, 'returning': 2488, 'frankly': 2489, 'repeat': 2490, 'digitalization': 2491, 'hamburger': 2492, 'hamburgers': 2493, 'raising': 2494, 'dx': 2495, 'audience': 2496, 'laughing': 2497, 'applauding': 2498, 'hardly': 2499, 'huge': 2500, 'project': 2501, 'amounts': 2502, 'invested': 2503, 'conducted': 2504, 'individual': 2505, 'frustrated': 2506, 'persuading': 2507, 'nevertheless': 2508, 'vital': 2509, 'stably': 2510, 'asus': 2511, 'external': 2512, 'cd': 2513, 'dvd': 2514, 'move': 2515, 'proverb': 2516, 'spouse': 2517, 'shaved': 2518, 'tourism': 2519, 'related': 2520, 'christianity': 2521, 'workbook': 2522, 'receive': 2523, 'thirdly': 2524, 'preparing': 2525, 'corrections': 2526, 'wire': 2527, 'affiliated': 2528, 'rained': 2529, 'heavily': 2530, 'inside': 2531, 'carefully': 2532, 'observed': 2533, 'samples': 2534, 'sushi': 2535, 'opera': 2536, 'tubs': 2537, 'ryokan': 2538, 'communal': 2539, 'bath': 2540, 'beyond': 2541, 'expectations': 2542, 'turns': 2543, 'miserable': 2544, 'drug': 2545, 'resembling': 2546, 'abracadabra': 2547, 'position': 2548, 'grance': 2549, 'dore': 2550, 'blog': 2551, 'touching': 2552, 'whatever': 2553, 'influential': 2554, 'fail': 2555, 'soggy': 2556, 'sayings': 2557, 'roommates': 2558, 'surf': 2559, 'pooket': 2560, 'gentle': 2561, 'guide': 2562, 'extraction': 2563, 'step': 2564, 'search': 2565, 'engines': 2566, 'hopes': 2567, 'fears': 2568, 'k': 2569, 'spare': 2570, 'jack': 2571, 'salmon': 2572, 'crazy': 2573, 'grief': 2574, 'loss': 2575, 'suspect': 2576, 'restrooms': 2577, 'restroom': 2578, 'pages': 2579, 'perfect': 2580, 'faces': 2581, 'glimpse': 2582, 'farmer': 2583, 'antique': 2584, 'modern': 2585, 'ones': 2586, 'tour': 2587, 'argumentation': 2588, 'mix': 2589, 'pains': 2590, 'settle': 2591, 'unpaid': 2592, 'banned': 2593, 'method': 2594, 'priority': 2595, 'parties': 2596, 'crash': 2597, 'departed': 2598, 'mt': 2599, 'climb': 2600, 'acupuncture': 2601, 'moxibustion': 2602, 'smoke': 2603, 'updating': 2604, 'talented': 2605, 'slumdog': 2606, 'specially': 2607, 'thai': 2608, 'dessert': 2609, 'connect': 2610, 'tangled': 2611, 'cords': 2612, 'anti': 2613, 'protest': 2614, 'supposed': 2615, 'thrilled': 2616, 'lol': 2617, 'nephew': 2618, 'lovers': 2619, 'takeda': 2620, 'nintendo': 2621, 'interest': 2622, 'motif': 2623, 'vampire': 2624, 'legends': 2625, 'atmosphere': 2626, 'gloomy': 2627, 'curly': 2628, 'woolly': 2629, 'starvation': 2630, 'addressed': 2631, 'instantly': 2632, 'metro': 2633, 'marionettes': 2634, 'stage': 2635, 'prep': 2636, 'mmm': 2637, 'deep': 2638, 'practical': 2639, 'daytime': 2640, 'harsh': 2641, 'correcting': 2642, 'badly': 2643, 'candidate': 2644, 'honda': 2645, 'civic': 2646, 'installing': 2647, 'wolf': 2648, 'douglass': 2649, 'claimed': 2650, 'debates': 2651, 'lincoln': 2652, 'strategies': 2653, 'breaststroke': 2654, 'ming': 2655, 'local': 2656, 'fails': 2657, 'slipping': 2658, 'hit': 2659, 'basketball': 2660, 'sympathize': 2661, 'feelings': 2662, 'terrible': 2663, 'boxes': 2664, 'initials': 2665, 'reign': 2666, 'smartphones': 2667, 'volunteer': 2668, 'workplace': 2669, 'reputation': 2670, 'workout': 2671, 'bottle': 2672, 'towel': 2673, 'sweats': 2674, 'console': 2675, 'zoo': 2676, 'casseroles': 2677, 'refreshments': 2678, 'beers': 2679, 'sub': 2680, 'parallel': 2681, 'laforgue': 2682, 'relation': 2683, 'religious': 2684, 'belief': 2685, 'savages': 2686, 'daniel': 2687, 'davost': 2688, 'stages': 2689, 'relaxing': 2690, 'staying': 2691, 'knows': 2692, 'repeating': 2693, 'movement': 2694, 'robot': 2695, 'wasted': 2696, 'matches': 2697, 'lit': 2698, 'rebound': 2699, 'longest': 2700, 'wall': 2701, 'exists': 2702, 'michael': 2703, 'artist': 2704, 'idol': 2705, 'ozyu': 2706, 'negative': 2707, 'effects': 2708, 'material': 2709, 'firstly': 2710, 'headfish': 2711, 'slugs': 2712, 'haagen': 2713, 'dazs': 2714, 'cheer': 2715, 'seemingly': 2716, 'writer': 2717, 'competent': 2718, 'presidents': 2719, 'whim': 2720, 'slide': 2721, 'graphene': 2722, 'consists': 2723, 'numerous': 2724, 'carbon': 2725, 'atoms': 2726, 'hexagon': 2727, 'honeycomb': 2728, 'indebted': 2729, 'neighborhood': 2730, 'couplet': 2731, 'imagine': 2732, 'reacted': 2733, 'piling': 2734, 'debts': 2735, 'cards': 2736, 'gasoline': 2737, 'kyoto': 2738, 'argue': 2739, 'kingdoms': 2740, 'bind': 2741, 'confidence': 2742, 'businessesmen': 2743, 'emit': 2744, 'highway': 2745, 'reduced': 2746, 'anniversary': 2747, 'depend': 2748, 'abbreviations': 2749, 'clinic': 2750, 'printer': 2751, 'distinction': 2752, 'gym': 2753, 'tie': 2754, 'pants': 2755, 'businessman': 2756, 'classrooms': 2757, 'becoming': 2758, 'dish': 2759, 'bottom': 2760, 'arts': 2761, 'fan': 2762, 'kia': 2763, 'tigers': 2764, 'accessed': 2765, 'imposed': 2766, 'cans': 2767, 'singha': 2768, 'culprit': 2769, 'reflect': 2770, 'personality': 2771, 'logic': 2772, 'skin': 2773, 'skull': 2774, 'hereditary': 2775, 'factors': 2776, 'fantasy': 2777, 'magic': 2778, 'vampires': 2779, 'topics': 2780, 'sir': 2781, 'madam': 2782, 'fruits': 2783, 'vegetables': 2784, 'consume': 2785, 'strength': 2786, 'bird': 2787, 'barking': 2788, 'laba': 2789, 'porridge': 2790, 'sumo': 2791, 'judo': 2792, 'mao': 2793, 'mortal': 2794, 'song': 2795, 'comfortably': 2796, 'fault': 2797, 'chair': 2798, 'pickled': 2799, 'eggplant': 2800, 'menu': 2801, 'freely': 2802, 'flows': 2803, 'stronger': 2804, 'citizens': 2805, 'governments': 2806, 'accountable': 2807, 'fairyland': 2808, 'consuming': 2809, 'stressful': 2810, 'opinions': 2811, 'habits': 2812, 'bores': 2813, 'hemorrhages': 2814, 'apiece': 2815, 'understood': 2816, 'state': 2817, 'workmates': 2818, 'decision': 2819, 'issue': 2820, 'cloud': 2821, 'starting': 2822, 'coat': 2823, 'wakes': 2824, 'straw': 2825, 'hat': 2826, 'sandal': 2827, 'plagues': 2828, 'shoe': 2829, 'counter': 2830, 'colour': 2831, 'grass': 2832, 'brown': 2833, 'ivory': 2834, 'feudal': 2835, 'smile': 2836, 'smartphone': 2837, 'dell': 2838, 'soba': 2839, 'noodle': 2840, 'buckwheat': 2841, 'ta': 2842, 'brand': 2843, 'november': 2844, 'linguistic': 2845, 'balance': 2846, 'comics': 2847, 'colorful': 2848, 'brilliant': 2849, 'anchor': 2850, 'theory': 2851, 'jica': 2852, 'bhutan': 2853, 'breakfast': 2854, 'unified': 2855, 'propaganda': 2856, 'membership': 2857, 'rewarding': 2858, 'ant': 2859, 'volume': 2860, 'series': 2861, 'firework': 2862, 'displays': 2863, 'described': 2864, 'troublemaker': 2865, 'columnists': 2866, 'die': 2867, 'exactly': 2868, 'taste': 2869, 'contain': 2870, 'toxic': 2871, 'marks': 2872, 'sleeps': 2873, 'except': 2874, 'rabid': 2875, 'dogs': 2876, 'fishy': 2877, 'guest': 2878, 'sleeveless': 2879, 'dress': 2880, 'rule': 2881, 'pick': 2882, 'attentive': 2883, 'teary': 2884, 'boy': 2885, 'homecoming': 2886, 'luminous': 2887, 'beings': 2888, 'stormy': 2889, 'memories': 2890, 'frackers': 2891, 'spain': 2892, 'sou': 2893, 'scholarships': 2894, 'transfer': 2895, 'credits': 2896, 'releasing': 2897, 'ipad': 2898, 'pigtails': 2899, 'commonly': 2900, 'date': 2901, 'straight': 2902, 'burst': 2903, 'tears': 2904, 'outcome': 2905, 'forbade': 2906, 'distance': 2907, 'km': 2908, 'arrive': 2909, 'unable': 2910, 'crowd': 2911, 'support': 2912, 'deserve': 2913, 'respected': 2914, 'standard': 2915, 'unclear': 2916, 'karamazov': 2917, 'imagination': 2918, 'genetically': 2919, 'modified': 2920, 'president': 2921, 'degrees': 2922, 'image': 2923, 'orientation': 2924, 'session': 2925, 'anonymous': 2926, 'names': 2927, 'primarily': 2928, 'malicious': 2929, 'intention': 2930, 'counterparts': 2931, 'plays': 2932, 'toll': 2933, 'constitution': 2934, 'maintenance': 2935, 'unsolicited': 2936, 'bulk': 2937, 'email': 2938, 'jar': 2939, 'towards': 2940, 'charming': 2941, 'accepted': 2942, 'ways': 2943, 'jonathan': 2944, 'cainer': 2945, 'robbed': 2946, 'wallet': 2947, 'beach': 2948, 'field': 2949, 'supports': 2950, 'arrange': 2951, 'evaluate': 2952, 'inventories': 2953, 'wonderful': 2954, 'marathon': 2955, 'spa': 2956, 'waking': 2957, 'efficient': 2958, 'nighttime': 2959, 'adapt': 2960, 'lifestyle': 2961, 'hundred': 2962, 'seventy': 2963, 'eight': 2964, 'empty': 2965, 'head': 2966, 'il': 2967, 'filmed': 2968, 'catherine': 2969, 'corner': 2970, 'link': 2971, 'below': 2972, 'starter': 2973, 'faucet': 2974, 'bathroom': 2975, 'generally': 2976, 'intelligent': 2977, 'blackout': 2978, 'displeased': 2979, 'whereas': 2980, 'scold': 2981, 'laziness': 2982, 'countless': 2983, 'diversity': 2984, 'micheal': 2985, 'likes': 2986, 'sit': 2987, 'lap': 2988, 'blackouts': 2989, 'leaving': 2990, 'enjoying': 2991, 'allowed': 2992, 'tiredness': 2993, 'energetically': 2994, 'suppose': 2995, 'fake': 2996, 'park': 2997, 'syndrome': 2998, 'tradition': 2999, 'peculiar': 3000, 'aim': 3001, 'monsters': 3002, 'ballroom': 3003, 'darker': 3004, 'electricity': 3005, 'remarkably': 3006, 'mature': 3007, 'forever': 3008, 'cosh': 3009, 'circle': 3010, 'troubles': 3011, 'murder': 3012, 'cases': 3013, 'fierce': 3014, 'fights': 3015, 'unchanged': 3016, 'holland': 3017, 'indispensable': 3018, 'fruitful': 3019, 'patricia': 3020, 'baxa': 3021, 'cookie': 3022, 'propose': 3023, 'super': 3024, 'duper': 3025, 'pose': 3026, 'feels': 3027, 'invite': 3028, 'sights': 3029, 'founder': 3030, 'harry': 3031, 'torches': 3032, 'terrifying': 3033, 'sudden': 3034, 'wind': 3035, 'article': 3036, 'ruin': 3037, 'programs': 3038, 'mass': 3039, 'soybeans': 3040, 'regard': 3041, 'workbooks': 3042, 'agent': 3043, 'hungry': 3044, 'pigeon': 3045, 'bagel': 3046, 'struck': 3047, 'alley': 3048, 'kiss': 3049, 'bringing': 3050, 'august': 3051, 'ill': 3052, 'resignation': 3053, 'disney': 3054, 'land': 3055, 'meditation': 3056, 'tiger': 3057, 'mask': 3058, 'neither': 3059, 'sent': 3060, 'nor': 3061, 'fulfilled': 3062, 'quitting': 3063, 'bothered': 3064, 'idioms': 3065, 'globalization': 3066, 'obstacles': 3067, 'elite': 3068, 'maternity': 3069, 'cleaning': 3070, 'shinto': 3071, 'alc': 3072, 'tube': 3073, 'receives': 3074, 'unethical': 3075, 'issues': 3076, 'attached': 3077, 'appears': 3078, 'softbank': 3079, 'draws': 3080, 'portrait': 3081, 'coworker': 3082, 'row': 3083, 'ulterior': 3084, 'motive': 3085, 'authority': 3086, 'challenged': 3087, 'journey': 3088, 'garbage': 3089, 'mori': 3090, 'invited': 3091, 'taught': 3092, 'blocks': 3093, 'avenues': 3094, 'curve': 3095, 'gdp': 3096, 'reform': 3097, 'wanting': 3098, 'irritated': 3099, 'recognized': 3100, 'sellers': 3101, 'daegu': 3102, 'blah': 3103, 'taken': 3104, 'digital': 3105, 'camera': 3106, 'autocad': 3107, 'phrase': 3108, 'cliche': 3109, 'metaphorical': 3110, 'accuracy': 3111, 'honestly': 3112, 'nightmare': 3113, 'hometown': 3114, 'ps': 3115, 'tomaselli': 3116, 'australians': 3117, 'tragedies': 3118, 'sakura': 3119, 'cycle': 3120, 'graduates': 3121, 'cheerfully': 3122, 'syntagms': 3123, 'paradigms': 3124, 'structural': 3125, 'context': 3126, 'signs': 3127, 'printed': 3128, 'advertising': 3129, 'syntagm': 3130, 'visual': 3131, 'signifiers': 3132, 'puzzled': 3133, 'alcohol': 3134, 'laughed': 3135, 'failed': 3136, 'rises': 3137, 'removes': 3138, 'pk': 3139, 'continuity': 3140, 'estranged': 3141, 'florida': 3142, 'matched': 3143, 'chirp': 3144, 'bugs': 3145, 'bell': 3146, 'ringing': 3147, 'crokets': 3148, 'onion': 3149, 'cheering': 3150, 'struggling': 3151, 'railway': 3152, 'unwillingness': 3153, 'breathe': 3154, 'gathered': 3155, 'interval': 3156, 'feeled': 3157, 'luckily': 3158, 'smooth': 3159, 'functional': 3160, 'landed': 3161, 'neil': 3162, 'armstrong': 3163, 'surface': 3164, 'moon': 3165, 'despair': 3166, 'corpse': 3167, 'per': 3168, 'practice': 3169, 'oral': 3170, 'honor': 3171, 'demanding': 3172, 'reduction': 3173, 'inferiority': 3174, 'whenever': 3175, 'grateful': 3176, 'july': 3177, 'added': 3178, 'tongue': 3179, 'maps': 3180, 'pot': 3181, 'dirty': 3182, 'romaji': 3183, 'descartes': 3184, 'staring': 3185, 'squatting': 3186, 'sprinkle': 3187, 'beans': 3188, 'unusually': 3189, 'former': 3190, 'visited': 3191, 'tanzania': 3192, 'existed': 3193, 'stranger': 3194, 'professors': 3195, 'subtitles': 3196, 'manifest': 3197, 'complex': 3198, 'repeatedly': 3199, 'audiences': 3200, 'unites': 3201, 'clock': 3202, 'r': 3203, 'development': 3204, 'department': 3205, 'responsibility': 3206, 'robots': 3207, 'casts': 3208, 'ray': 3209, 'properly': 3210, 'electronic': 3211, 'caffe': 3212, 'mocha': 3213, 'whipped': 3214, 'blacksmith': 3215, 'professionals': 3216, 'hiking': 3217, 'key': 3218, 'reliability': 3219, 'ourselves': 3220, 'embedded': 3221, 'helps': 3222, 'resolutions': 3223, 'insisted': 3224, 'antonym': 3225, 'imaginary': 3226, 'cave': 3227, 'sympathy': 3228, 'yields': 3229, 'empathy': 3230, 'produces': 3231, 'constructive': 3232, 'understanding': 3233, 'seattle': 3234, 'washington': 3235, 'tibet': 3236, 'zone': 3237, 'pacific': 3238, 'ocean': 3239, 'fallen': 3240, 'exhausted': 3241, 'mouth': 3242, 'dishes': 3243, 'pans': 3244, 'pots': 3245, 'typically': 3246, 'greatest': 3247, 'godfather': 3248, 'ridiculous': 3249, 'ashamed': 3250, 'awake': 3251, 'moved': 3252, 'ahead': 3253, 'needed': 3254, 'delicate': 3255, 'error': 3256, 'played': 3257, 'jacket': 3258, 'sum': 3259, 'meantime': 3260, 'replaced': 3261, 'kendo': 3262, 'final': 3263, 'overslept': 3264, 'servant': 3265, 'profile': 3266, 'release': 3267, 'tedious': 3268, 'studies': 3269, 'suffered': 3270, 'stomach': 3271, 'cancer': 3272, 'oddly': 3273, 'arrogant': 3274, 'alison': 3275, 'january': 3276, 'ketrzyn': 3277, 'poland': 3278, 'belong': 3279, 'parrot': 3280, 'affiliate': 3281, 'trips': 3282, 'domestically': 3283}\n"
          ]
        }
      ]
    },
    {
      "cell_type": "code",
      "source": [
        "total_words = len(tokenizer.word_index) + 1\n",
        "print(f\"total words:{total_words}\")"
      ],
      "metadata": {
        "colab": {
          "base_uri": "https://localhost:8080/"
        },
        "id": "1JTHyFEbihtF",
        "outputId": "8d9b0827-e75b-4feb-b319-139734e975b4"
      },
      "execution_count": 8,
      "outputs": [
        {
          "output_type": "stream",
          "name": "stdout",
          "text": [
            "total words:3284\n"
          ]
        }
      ]
    },
    {
      "cell_type": "code",
      "source": [
        "sequences = tokenizer.texts_to_sequences(corpus)\n",
        "padded = pad_sequences(sequences,padding=\"post\")"
      ],
      "metadata": {
        "id": "bcfiADEcihwp"
      },
      "execution_count": 9,
      "outputs": []
    },
    {
      "cell_type": "code",
      "source": [
        "input_sequences = []\n",
        "labels = []\n",
        "for line in corpus:\n",
        "    token_list = tokenizer.texts_to_sequences([line])[0]\n",
        "    for i in range(1, len(token_list)):\n",
        "        n_gram_sequence = token_list[:i]\n",
        "        input_sequences.append(n_gram_sequence)\n",
        "        labels.append(token_list[i])"
      ],
      "metadata": {
        "id": "168Isxj-ih3v"
      },
      "execution_count": 10,
      "outputs": []
    },
    {
      "cell_type": "code",
      "source": [
        "max_sequence_len = max([len(x) for x in input_sequences])\n",
        "input_sequences = np.array(pad_sequences(input_sequences,maxlen = max_sequence_len, padding = 'pre'))"
      ],
      "metadata": {
        "id": "2ELD43A1ir1x"
      },
      "execution_count": 11,
      "outputs": []
    },
    {
      "cell_type": "code",
      "source": [
        "xs = input_sequences\n",
        "ys = tf.keras.utils.to_categorical(labels, num_classes=total_words)"
      ],
      "metadata": {
        "id": "jQBCrN4Oir4Q"
      },
      "execution_count": 12,
      "outputs": []
    },
    {
      "cell_type": "code",
      "source": [
        "# #train Neural Network\n",
        "model = Sequential()\n",
        "model.add(Embedding(input_dim =total_words, output_dim=240,input_shape =(max_sequence_len,)))\n",
        "model.add(Bidirectional(LSTM(150)))\n",
        "model.add(Dense(total_words,activation = \"softmax\"))\n"
      ],
      "metadata": {
        "colab": {
          "base_uri": "https://localhost:8080/"
        },
        "id": "Uz5B7BvNir6X",
        "outputId": "bfa06d2a-8f92-4cce-aab5-9d4181dcab91"
      },
      "execution_count": 13,
      "outputs": [
        {
          "output_type": "stream",
          "name": "stderr",
          "text": [
            "/usr/local/lib/python3.10/dist-packages/keras/src/layers/core/embedding.py:93: UserWarning: Do not pass an `input_shape`/`input_dim` argument to a layer. When using Sequential models, prefer using an `Input(shape)` object as the first layer in the model instead.\n",
            "  super().__init__(**kwargs)\n"
          ]
        }
      ]
    },
    {
      "cell_type": "code",
      "source": [
        "adam = Adam(learning_rate=0.01)\n",
        "model.compile(loss = 'categorical_crossentropy', optimizer=adam, metrics=['accuracy'])\n",
        "history = model.fit(xs, ys, epochs=50)\n"
      ],
      "metadata": {
        "colab": {
          "base_uri": "https://localhost:8080/"
        },
        "id": "lRj8P-hBir8m",
        "outputId": "4345e360-5d5c-4ea3-9a57-01d5b72c4e9f"
      },
      "execution_count": 17,
      "outputs": [
        {
          "output_type": "stream",
          "name": "stdout",
          "text": [
            "Epoch 1/50\n",
            "\u001b[1m666/666\u001b[0m \u001b[32m━━━━━━━━━━━━━━━━━━━━\u001b[0m\u001b[37m\u001b[0m \u001b[1m210s\u001b[0m 311ms/step - accuracy: 0.2168 - loss: 4.7789\n",
            "Epoch 2/50\n",
            "\u001b[1m666/666\u001b[0m \u001b[32m━━━━━━━━━━━━━━━━━━━━\u001b[0m\u001b[37m\u001b[0m \u001b[1m260s\u001b[0m 308ms/step - accuracy: 0.2582 - loss: 3.8364\n",
            "Epoch 3/50\n",
            "\u001b[1m666/666\u001b[0m \u001b[32m━━━━━━━━━━━━━━━━━━━━\u001b[0m\u001b[37m\u001b[0m \u001b[1m204s\u001b[0m 306ms/step - accuracy: 0.2625 - loss: 3.8712\n",
            "Epoch 4/50\n",
            "\u001b[1m666/666\u001b[0m \u001b[32m━━━━━━━━━━━━━━━━━━━━\u001b[0m\u001b[37m\u001b[0m \u001b[1m263s\u001b[0m 307ms/step - accuracy: 0.2784 - loss: 3.7829\n",
            "Epoch 5/50\n",
            "\u001b[1m666/666\u001b[0m \u001b[32m━━━━━━━━━━━━━━━━━━━━\u001b[0m\u001b[37m\u001b[0m \u001b[1m263s\u001b[0m 308ms/step - accuracy: 0.3042 - loss: 3.3772\n",
            "Epoch 6/50\n",
            "\u001b[1m666/666\u001b[0m \u001b[32m━━━━━━━━━━━━━━━━━━━━\u001b[0m\u001b[37m\u001b[0m \u001b[1m207s\u001b[0m 310ms/step - accuracy: 0.3226 - loss: 3.2168\n",
            "Epoch 7/50\n",
            "\u001b[1m666/666\u001b[0m \u001b[32m━━━━━━━━━━━━━━━━━━━━\u001b[0m\u001b[37m\u001b[0m \u001b[1m263s\u001b[0m 311ms/step - accuracy: 0.3387 - loss: 3.0833\n",
            "Epoch 8/50\n",
            "\u001b[1m666/666\u001b[0m \u001b[32m━━━━━━━━━━━━━━━━━━━━\u001b[0m\u001b[37m\u001b[0m \u001b[1m205s\u001b[0m 308ms/step - accuracy: 0.3530 - loss: 2.9587\n",
            "Epoch 9/50\n",
            "\u001b[1m666/666\u001b[0m \u001b[32m━━━━━━━━━━━━━━━━━━━━\u001b[0m\u001b[37m\u001b[0m \u001b[1m263s\u001b[0m 310ms/step - accuracy: 0.3607 - loss: 2.9312\n",
            "Epoch 10/50\n",
            "\u001b[1m666/666\u001b[0m \u001b[32m━━━━━━━━━━━━━━━━━━━━\u001b[0m\u001b[37m\u001b[0m \u001b[1m204s\u001b[0m 307ms/step - accuracy: 0.3791 - loss: 2.8037\n",
            "Epoch 11/50\n",
            "\u001b[1m666/666\u001b[0m \u001b[32m━━━━━━━━━━━━━━━━━━━━\u001b[0m\u001b[37m\u001b[0m \u001b[1m261s\u001b[0m 305ms/step - accuracy: 0.3861 - loss: 2.7524\n",
            "Epoch 12/50\n",
            "\u001b[1m666/666\u001b[0m \u001b[32m━━━━━━━━━━━━━━━━━━━━\u001b[0m\u001b[37m\u001b[0m \u001b[1m261s\u001b[0m 303ms/step - accuracy: 0.3999 - loss: 2.6566\n",
            "Epoch 13/50\n",
            "\u001b[1m666/666\u001b[0m \u001b[32m━━━━━━━━━━━━━━━━━━━━\u001b[0m\u001b[37m\u001b[0m \u001b[1m206s\u001b[0m 309ms/step - accuracy: 0.3977 - loss: 2.6628\n",
            "Epoch 14/50\n",
            "\u001b[1m666/666\u001b[0m \u001b[32m━━━━━━━━━━━━━━━━━━━━\u001b[0m\u001b[37m\u001b[0m \u001b[1m259s\u001b[0m 306ms/step - accuracy: 0.4137 - loss: 2.5721\n",
            "Epoch 15/50\n",
            "\u001b[1m666/666\u001b[0m \u001b[32m━━━━━━━━━━━━━━━━━━━━\u001b[0m\u001b[37m\u001b[0m \u001b[1m265s\u001b[0m 311ms/step - accuracy: 0.4325 - loss: 2.4824\n",
            "Epoch 16/50\n",
            "\u001b[1m666/666\u001b[0m \u001b[32m━━━━━━━━━━━━━━━━━━━━\u001b[0m\u001b[37m\u001b[0m \u001b[1m261s\u001b[0m 309ms/step - accuracy: 0.4318 - loss: 2.4765\n",
            "Epoch 17/50\n",
            "\u001b[1m666/666\u001b[0m \u001b[32m━━━━━━━━━━━━━━━━━━━━\u001b[0m\u001b[37m\u001b[0m \u001b[1m206s\u001b[0m 310ms/step - accuracy: 0.4404 - loss: 2.4529\n",
            "Epoch 18/50\n",
            "\u001b[1m666/666\u001b[0m \u001b[32m━━━━━━━━━━━━━━━━━━━━\u001b[0m\u001b[37m\u001b[0m \u001b[1m265s\u001b[0m 315ms/step - accuracy: 0.4256 - loss: 2.5106\n",
            "Epoch 19/50\n",
            "\u001b[1m666/666\u001b[0m \u001b[32m━━━━━━━━━━━━━━━━━━━━\u001b[0m\u001b[37m\u001b[0m \u001b[1m259s\u001b[0m 310ms/step - accuracy: 0.4457 - loss: 2.4343\n",
            "Epoch 20/50\n",
            "\u001b[1m666/666\u001b[0m \u001b[32m━━━━━━━━━━━━━━━━━━━━\u001b[0m\u001b[37m\u001b[0m \u001b[1m261s\u001b[0m 309ms/step - accuracy: 0.4415 - loss: 2.4782\n",
            "Epoch 21/50\n",
            "\u001b[1m666/666\u001b[0m \u001b[32m━━━━━━━━━━━━━━━━━━━━\u001b[0m\u001b[37m\u001b[0m \u001b[1m264s\u001b[0m 312ms/step - accuracy: 0.4438 - loss: 2.4209\n",
            "Epoch 22/50\n",
            "\u001b[1m666/666\u001b[0m \u001b[32m━━━━━━━━━━━━━━━━━━━━\u001b[0m\u001b[37m\u001b[0m \u001b[1m266s\u001b[0m 318ms/step - accuracy: 0.4581 - loss: 2.3327\n",
            "Epoch 23/50\n",
            "\u001b[1m666/666\u001b[0m \u001b[32m━━━━━━━━━━━━━━━━━━━━\u001b[0m\u001b[37m\u001b[0m \u001b[1m264s\u001b[0m 322ms/step - accuracy: 0.4548 - loss: 2.4014\n",
            "Epoch 24/50\n",
            "\u001b[1m666/666\u001b[0m \u001b[32m━━━━━━━━━━━━━━━━━━━━\u001b[0m\u001b[37m\u001b[0m \u001b[1m260s\u001b[0m 319ms/step - accuracy: 0.4589 - loss: 2.3216\n",
            "Epoch 25/50\n",
            "\u001b[1m666/666\u001b[0m \u001b[32m━━━━━━━━━━━━━━━━━━━━\u001b[0m\u001b[37m\u001b[0m \u001b[1m261s\u001b[0m 317ms/step - accuracy: 0.4729 - loss: 2.2630\n",
            "Epoch 26/50\n",
            "\u001b[1m666/666\u001b[0m \u001b[32m━━━━━━━━━━━━━━━━━━━━\u001b[0m\u001b[37m\u001b[0m \u001b[1m262s\u001b[0m 318ms/step - accuracy: 0.4797 - loss: 2.2161\n",
            "Epoch 27/50\n",
            "\u001b[1m666/666\u001b[0m \u001b[32m━━━━━━━━━━━━━━━━━━━━\u001b[0m\u001b[37m\u001b[0m \u001b[1m266s\u001b[0m 324ms/step - accuracy: 0.4845 - loss: 2.1927\n",
            "Epoch 28/50\n",
            "\u001b[1m666/666\u001b[0m \u001b[32m━━━━━━━━━━━━━━━━━━━━\u001b[0m\u001b[37m\u001b[0m \u001b[1m259s\u001b[0m 320ms/step - accuracy: 0.4912 - loss: 2.1192\n",
            "Epoch 29/50\n",
            "\u001b[1m666/666\u001b[0m \u001b[32m━━━━━━━━━━━━━━━━━━━━\u001b[0m\u001b[37m\u001b[0m \u001b[1m263s\u001b[0m 321ms/step - accuracy: 0.4975 - loss: 2.1314\n",
            "Epoch 30/50\n",
            "\u001b[1m666/666\u001b[0m \u001b[32m━━━━━━━━━━━━━━━━━━━━\u001b[0m\u001b[37m\u001b[0m \u001b[1m259s\u001b[0m 317ms/step - accuracy: 0.4931 - loss: 2.1334\n",
            "Epoch 31/50\n",
            "\u001b[1m666/666\u001b[0m \u001b[32m━━━━━━━━━━━━━━━━━━━━\u001b[0m\u001b[37m\u001b[0m \u001b[1m211s\u001b[0m 316ms/step - accuracy: 0.4890 - loss: 2.1797\n",
            "Epoch 32/50\n",
            "\u001b[1m666/666\u001b[0m \u001b[32m━━━━━━━━━━━━━━━━━━━━\u001b[0m\u001b[37m\u001b[0m \u001b[1m261s\u001b[0m 315ms/step - accuracy: 0.4884 - loss: 2.2051\n",
            "Epoch 33/50\n",
            "\u001b[1m666/666\u001b[0m \u001b[32m━━━━━━━━━━━━━━━━━━━━\u001b[0m\u001b[37m\u001b[0m \u001b[1m264s\u001b[0m 317ms/step - accuracy: 0.5013 - loss: 2.1562\n",
            "Epoch 34/50\n",
            "\u001b[1m666/666\u001b[0m \u001b[32m━━━━━━━━━━━━━━━━━━━━\u001b[0m\u001b[37m\u001b[0m \u001b[1m257s\u001b[0m 310ms/step - accuracy: 0.4918 - loss: 2.1946\n",
            "Epoch 35/50\n",
            "\u001b[1m666/666\u001b[0m \u001b[32m━━━━━━━━━━━━━━━━━━━━\u001b[0m\u001b[37m\u001b[0m \u001b[1m263s\u001b[0m 313ms/step - accuracy: 0.4949 - loss: 2.1611\n",
            "Epoch 36/50\n",
            "\u001b[1m666/666\u001b[0m \u001b[32m━━━━━━━━━━━━━━━━━━━━\u001b[0m\u001b[37m\u001b[0m \u001b[1m262s\u001b[0m 312ms/step - accuracy: 0.5088 - loss: 2.0998\n",
            "Epoch 37/50\n",
            "\u001b[1m666/666\u001b[0m \u001b[32m━━━━━━━━━━━━━━━━━━━━\u001b[0m\u001b[37m\u001b[0m \u001b[1m260s\u001b[0m 310ms/step - accuracy: 0.5161 - loss: 2.0806\n",
            "Epoch 38/50\n",
            "\u001b[1m666/666\u001b[0m \u001b[32m━━━━━━━━━━━━━━━━━━━━\u001b[0m\u001b[37m\u001b[0m \u001b[1m207s\u001b[0m 310ms/step - accuracy: 0.5126 - loss: 2.0706\n",
            "Epoch 39/50\n",
            "\u001b[1m666/666\u001b[0m \u001b[32m━━━━━━━━━━━━━━━━━━━━\u001b[0m\u001b[37m\u001b[0m \u001b[1m259s\u001b[0m 306ms/step - accuracy: 0.5192 - loss: 2.0743\n",
            "Epoch 40/50\n",
            "\u001b[1m666/666\u001b[0m \u001b[32m━━━━━━━━━━━━━━━━━━━━\u001b[0m\u001b[37m\u001b[0m \u001b[1m265s\u001b[0m 311ms/step - accuracy: 0.5075 - loss: 2.0632\n",
            "Epoch 41/50\n",
            "\u001b[1m666/666\u001b[0m \u001b[32m━━━━━━━━━━━━━━━━━━━━\u001b[0m\u001b[37m\u001b[0m \u001b[1m263s\u001b[0m 311ms/step - accuracy: 0.5108 - loss: 2.1157\n",
            "Epoch 42/50\n",
            "\u001b[1m666/666\u001b[0m \u001b[32m━━━━━━━━━━━━━━━━━━━━\u001b[0m\u001b[37m\u001b[0m \u001b[1m209s\u001b[0m 313ms/step - accuracy: 0.5299 - loss: 2.0006\n",
            "Epoch 43/50\n",
            "\u001b[1m666/666\u001b[0m \u001b[32m━━━━━━━━━━━━━━━━━━━━\u001b[0m\u001b[37m\u001b[0m \u001b[1m263s\u001b[0m 315ms/step - accuracy: 0.5274 - loss: 1.9924\n",
            "Epoch 44/50\n",
            "\u001b[1m666/666\u001b[0m \u001b[32m━━━━━━━━━━━━━━━━━━━━\u001b[0m\u001b[37m\u001b[0m \u001b[1m265s\u001b[0m 319ms/step - accuracy: 0.5275 - loss: 2.0533\n",
            "Epoch 45/50\n",
            "\u001b[1m666/666\u001b[0m \u001b[32m━━━━━━━━━━━━━━━━━━━━\u001b[0m\u001b[37m\u001b[0m \u001b[1m261s\u001b[0m 318ms/step - accuracy: 0.5156 - loss: 2.0944\n",
            "Epoch 46/50\n",
            "\u001b[1m666/666\u001b[0m \u001b[32m━━━━━━━━━━━━━━━━━━━━\u001b[0m\u001b[37m\u001b[0m \u001b[1m208s\u001b[0m 312ms/step - accuracy: 0.5345 - loss: 1.9886\n",
            "Epoch 47/50\n",
            "\u001b[1m666/666\u001b[0m \u001b[32m━━━━━━━━━━━━━━━━━━━━\u001b[0m\u001b[37m\u001b[0m \u001b[1m262s\u001b[0m 313ms/step - accuracy: 0.5010 - loss: 2.1739\n",
            "Epoch 48/50\n",
            "\u001b[1m666/666\u001b[0m \u001b[32m━━━━━━━━━━━━━━━━━━━━\u001b[0m\u001b[37m\u001b[0m \u001b[1m261s\u001b[0m 311ms/step - accuracy: 0.5175 - loss: 2.0423\n",
            "Epoch 49/50\n",
            "\u001b[1m666/666\u001b[0m \u001b[32m━━━━━━━━━━━━━━━━━━━━\u001b[0m\u001b[37m\u001b[0m \u001b[1m208s\u001b[0m 312ms/step - accuracy: 0.5310 - loss: 2.0095\n",
            "Epoch 50/50\n",
            "\u001b[1m666/666\u001b[0m \u001b[32m━━━━━━━━━━━━━━━━━━━━\u001b[0m\u001b[37m\u001b[0m \u001b[1m263s\u001b[0m 313ms/step - accuracy: 0.5175 - loss: 2.0607\n"
          ]
        }
      ]
    },
    {
      "cell_type": "code",
      "source": [
        "while True:\n",
        "    seed_text = input(\"Enter sentence:\")\n",
        "    if seed_text == \"exit\": #enter q00 to stop\n",
        "        break\n",
        "\n",
        "    next_words = 10\n",
        "\n",
        "    for _ in range(next_words):\n",
        "        token_list = tokenizer.texts_to_sequences([seed_text])[0]\n",
        "        token_list = pad_sequences([token_list], maxlen = max_sequence_len-1, padding='pre')\n",
        "        predicted = np.argmax(model.predict(token_list), axis=-1)\n",
        "        output_word = \"\"\n",
        "        for word, index in tokenizer.word_index.items():\n",
        "            if index == predicted:\n",
        "                output_word = word\n",
        "                break\n",
        "\n",
        "        seed_text+= \" \" + output_word\n",
        "        if output_word == '.':\n",
        "            break\n",
        "\n",
        "    print(seed_text)"
      ],
      "metadata": {
        "colab": {
          "base_uri": "https://localhost:8080/"
        },
        "id": "zdX8hxRXisAK",
        "outputId": "258dd727-e091-4610-f429-585e8aaf985f"
      },
      "execution_count": null,
      "outputs": [
        {
          "name": "stdout",
          "output_type": "stream",
          "text": [
            "\u001b[1m1/1\u001b[0m \u001b[32m━━━━━━━━━━━━━━━━━━━━\u001b[0m\u001b[37m\u001b[0m \u001b[1m0s\u001b[0m 484ms/step\n",
            "\u001b[1m1/1\u001b[0m \u001b[32m━━━━━━━━━━━━━━━━━━━━\u001b[0m\u001b[37m\u001b[0m \u001b[1m0s\u001b[0m 42ms/step\n",
            "\u001b[1m1/1\u001b[0m \u001b[32m━━━━━━━━━━━━━━━━━━━━\u001b[0m\u001b[37m\u001b[0m \u001b[1m0s\u001b[0m 42ms/step\n",
            "\u001b[1m1/1\u001b[0m \u001b[32m━━━━━━━━━━━━━━━━━━━━\u001b[0m\u001b[37m\u001b[0m \u001b[1m0s\u001b[0m 44ms/step\n",
            "i need to go any of working .\n",
            "\u001b[1m1/1\u001b[0m \u001b[32m━━━━━━━━━━━━━━━━━━━━\u001b[0m\u001b[37m\u001b[0m \u001b[1m0s\u001b[0m 45ms/step\n",
            "\u001b[1m1/1\u001b[0m \u001b[32m━━━━━━━━━━━━━━━━━━━━\u001b[0m\u001b[37m\u001b[0m \u001b[1m0s\u001b[0m 47ms/step\n",
            "\u001b[1m1/1\u001b[0m \u001b[32m━━━━━━━━━━━━━━━━━━━━\u001b[0m\u001b[37m\u001b[0m \u001b[1m0s\u001b[0m 47ms/step\n",
            "\u001b[1m1/1\u001b[0m \u001b[32m━━━━━━━━━━━━━━━━━━━━\u001b[0m\u001b[37m\u001b[0m \u001b[1m0s\u001b[0m 45ms/step\n",
            "\u001b[1m1/1\u001b[0m \u001b[32m━━━━━━━━━━━━━━━━━━━━\u001b[0m\u001b[37m\u001b[0m \u001b[1m0s\u001b[0m 45ms/step\n",
            "\u001b[1m1/1\u001b[0m \u001b[32m━━━━━━━━━━━━━━━━━━━━\u001b[0m\u001b[37m\u001b[0m \u001b[1m0s\u001b[0m 43ms/step\n",
            "\u001b[1m1/1\u001b[0m \u001b[32m━━━━━━━━━━━━━━━━━━━━\u001b[0m\u001b[37m\u001b[0m \u001b[1m0s\u001b[0m 42ms/step\n",
            "\u001b[1m1/1\u001b[0m \u001b[32m━━━━━━━━━━━━━━━━━━━━\u001b[0m\u001b[37m\u001b[0m \u001b[1m0s\u001b[0m 41ms/step\n",
            "\u001b[1m1/1\u001b[0m \u001b[32m━━━━━━━━━━━━━━━━━━━━\u001b[0m\u001b[37m\u001b[0m \u001b[1m0s\u001b[0m 42ms/step\n",
            "\u001b[1m1/1\u001b[0m \u001b[32m━━━━━━━━━━━━━━━━━━━━\u001b[0m\u001b[37m\u001b[0m \u001b[1m0s\u001b[0m 42ms/step\n",
            "i want to write my heart to some writing a conversation going to\n",
            "\u001b[1m1/1\u001b[0m \u001b[32m━━━━━━━━━━━━━━━━━━━━\u001b[0m\u001b[37m\u001b[0m \u001b[1m0s\u001b[0m 41ms/step\n",
            "\u001b[1m1/1\u001b[0m \u001b[32m━━━━━━━━━━━━━━━━━━━━\u001b[0m\u001b[37m\u001b[0m \u001b[1m0s\u001b[0m 42ms/step\n",
            "\u001b[1m1/1\u001b[0m \u001b[32m━━━━━━━━━━━━━━━━━━━━\u001b[0m\u001b[37m\u001b[0m \u001b[1m0s\u001b[0m 42ms/step\n",
            "\u001b[1m1/1\u001b[0m \u001b[32m━━━━━━━━━━━━━━━━━━━━\u001b[0m\u001b[37m\u001b[0m \u001b[1m0s\u001b[0m 42ms/step\n",
            "\u001b[1m1/1\u001b[0m \u001b[32m━━━━━━━━━━━━━━━━━━━━\u001b[0m\u001b[37m\u001b[0m \u001b[1m0s\u001b[0m 46ms/step\n",
            "\u001b[1m1/1\u001b[0m \u001b[32m━━━━━━━━━━━━━━━━━━━━\u001b[0m\u001b[37m\u001b[0m \u001b[1m0s\u001b[0m 43ms/step\n",
            "\u001b[1m1/1\u001b[0m \u001b[32m━━━━━━━━━━━━━━━━━━━━\u001b[0m\u001b[37m\u001b[0m \u001b[1m0s\u001b[0m 61ms/step\n",
            "\u001b[1m1/1\u001b[0m \u001b[32m━━━━━━━━━━━━━━━━━━━━\u001b[0m\u001b[37m\u001b[0m \u001b[1m0s\u001b[0m 42ms/step\n",
            "\u001b[1m1/1\u001b[0m \u001b[32m━━━━━━━━━━━━━━━━━━━━\u001b[0m\u001b[37m\u001b[0m \u001b[1m0s\u001b[0m 43ms/step\n",
            "\u001b[1m1/1\u001b[0m \u001b[32m━━━━━━━━━━━━━━━━━━━━\u001b[0m\u001b[37m\u001b[0m \u001b[1m0s\u001b[0m 43ms/step\n",
            "hi          \n",
            "\u001b[1m1/1\u001b[0m \u001b[32m━━━━━━━━━━━━━━━━━━━━\u001b[0m\u001b[37m\u001b[0m \u001b[1m0s\u001b[0m 73ms/step\n",
            "\u001b[1m1/1\u001b[0m \u001b[32m━━━━━━━━━━━━━━━━━━━━\u001b[0m\u001b[37m\u001b[0m \u001b[1m0s\u001b[0m 42ms/step\n",
            "\u001b[1m1/1\u001b[0m \u001b[32m━━━━━━━━━━━━━━━━━━━━\u001b[0m\u001b[37m\u001b[0m \u001b[1m0s\u001b[0m 45ms/step\n",
            "hello everybody everyone .\n",
            "Enter sentence:Hii\n"
          ]
        }
      ]
    }
  ]
}